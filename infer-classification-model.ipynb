{
 "cells": [
  {
   "cell_type": "code",
   "execution_count": 1,
   "metadata": {},
   "outputs": [],
   "source": [
    "import json\n",
    "from sklearn.model_selection import train_test_split\n",
    "from transformers import BertTokenizer\n",
    "import hazm\n",
    "from tqdm import tqdm\n",
    "import torch\n",
    "import torch\n",
    "from torch.utils.data import Dataset\n",
    "from transformers import BertForSequenceClassification, Trainer, TrainingArguments\n",
    "from sklearn.metrics import classification_report\n",
    "from torch.utils.data import DataLoader\n",
    "from transformers import AutoModelForSequenceClassification, AutoTokenizer\n",
    "import numpy as np\n",
    "from torch.nn.functional import softmax\n",
    "import matplotlib.pyplot as plt"
   ]
  },
  {
   "cell_type": "markdown",
   "metadata": {},
   "source": [
    "# Check GPU Availability"
   ]
  },
  {
   "cell_type": "code",
   "execution_count": 2,
   "metadata": {},
   "outputs": [
    {
     "name": "stdout",
     "output_type": "stream",
     "text": [
      "Using device: cuda\n"
     ]
    }
   ],
   "source": [
    "device = torch.device(\"cuda\" if torch.cuda.is_available() else \"cpu\")\n",
    "print(f\"Using device: {device}\")"
   ]
  },
  {
   "cell_type": "markdown",
   "metadata": {},
   "source": [
    "# Text normalization function"
   ]
  },
  {
   "cell_type": "code",
   "execution_count": 3,
   "metadata": {},
   "outputs": [],
   "source": [
    "normalizer = hazm.Normalizer()\n",
    "def text_normalization(text):\n",
    "    text = normalizer.normalize(text)\n",
    "\n",
    "    return text"
   ]
  },
  {
   "cell_type": "markdown",
   "metadata": {},
   "source": [
    "# Model and Tokenizer"
   ]
  },
  {
   "cell_type": "code",
   "execution_count": 4,
   "metadata": {},
   "outputs": [],
   "source": [
    "# Path to the directory where the model was saved\n",
    "model_path = \"fine_tuned_fabert\"\n",
    "\n",
    "# Load the trained model\n",
    "model = AutoModelForSequenceClassification.from_pretrained(model_path)\n",
    "\n",
    "# Load the tokenizer (optional but recommended)\n",
    "tokenizer = AutoTokenizer.from_pretrained(model_path)"
   ]
  },
  {
   "cell_type": "code",
   "execution_count": 5,
   "metadata": {},
   "outputs": [
    {
     "name": "stdout",
     "output_type": "stream",
     "text": [
      "Total parameters: 124,442,882\n",
      "Trainable parameters: 124,442,882\n"
     ]
    }
   ],
   "source": [
    "def print_model_parameters(model):\n",
    "    # Total number of parameters\n",
    "    total_params = sum(p.numel() for p in model.parameters())\n",
    "    # Trainable parameters\n",
    "    trainable_params = sum(p.numel() for p in model.parameters() if p.requires_grad)\n",
    "\n",
    "    print(f\"Total parameters: {total_params:,}\")\n",
    "    print(f\"Trainable parameters: {trainable_params:,}\")\n",
    "\n",
    "# Example usage\n",
    "print_model_parameters(model)"
   ]
  },
  {
   "cell_type": "markdown",
   "metadata": {},
   "source": [
    "# Single Inference"
   ]
  },
  {
   "cell_type": "code",
   "execution_count": 6,
   "metadata": {},
   "outputs": [
    {
     "data": {
      "text/plain": [
       "'علی به مدرسه رفت'"
      ]
     },
     "execution_count": 6,
     "metadata": {},
     "output_type": "execute_result"
    }
   ],
   "source": [
    "# Input text\n",
    "input_text = \"علی به مدرسه رفت\"\n",
    "input_text = text_normalization(input_text)\n",
    "input_text"
   ]
  },
  {
   "cell_type": "code",
   "execution_count": 7,
   "metadata": {},
   "outputs": [],
   "source": [
    "# Tokenize the input\n",
    "inputs = tokenizer(input_text, return_tensors=\"pt\", padding=True, truncation=True, max_length=512)\n",
    "\n",
    "# Move the model and input to GPU if available\n",
    "model.to(device)\n",
    "inputs = {key: value.to(device) for key, value in inputs.items()}"
   ]
  },
  {
   "cell_type": "code",
   "execution_count": 8,
   "metadata": {},
   "outputs": [
    {
     "name": "stdout",
     "output_type": "stream",
     "text": [
      "Predicted Label: 1\n"
     ]
    }
   ],
   "source": [
    "# Make predictions\n",
    "with torch.no_grad():\n",
    "    outputs = model(**inputs)\n",
    "    logits = outputs.logits\n",
    "\n",
    "# Get the predicted label\n",
    "predicted_label = logits.argmax(dim=1).item()\n",
    "print(f\"Predicted Label: {predicted_label}\")"
   ]
  },
  {
   "cell_type": "markdown",
   "metadata": {},
   "source": [
    "# Data Preparation"
   ]
  },
  {
   "cell_type": "code",
   "execution_count": 9,
   "metadata": {},
   "outputs": [],
   "source": [
    "# Load JSON data\n",
    "def load_data(file_path):\n",
    "    with open(file_path, 'r', encoding='utf-8') as file:\n",
    "        return json.load(file)"
   ]
  },
  {
   "cell_type": "code",
   "execution_count": 10,
   "metadata": {},
   "outputs": [],
   "source": [
    "base_path = \"/media/amin/T7 SHIELD/Projects/Persian-Informal-Formal/Datasets/ParsMap\"\n",
    "\n",
    "train_data = load_data(f\"{base_path}/ParsMap-train.json\")\n",
    "val_data   = load_data(f\"{base_path}/ParsMap-val.json\")\n",
    "test_data  = load_data(f\"{base_path}/ParsMap-test.json\")"
   ]
  },
  {
   "cell_type": "code",
   "execution_count": 11,
   "metadata": {},
   "outputs": [
    {
     "name": "stdout",
     "output_type": "stream",
     "text": [
      "#of training samples: 35009\n",
      "\n",
      "\n",
      "#of validation samples: 7502\n",
      "\n",
      "\n",
      "#of testing samples: 7503\n",
      "\n",
      "\n"
     ]
    }
   ],
   "source": [
    "print(f'#of training samples: {len(train_data.items())}')\n",
    "print('\\n')\n",
    "print(f'#of validation samples: {len(val_data.items())}')\n",
    "print('\\n')\n",
    "print(f'#of testing samples: {len(test_data.items())}')\n",
    "print('\\n')"
   ]
  },
  {
   "cell_type": "code",
   "execution_count": 12,
   "metadata": {},
   "outputs": [],
   "source": [
    "# Convert data into lists for binary classification\n",
    "def prepare_data(data):\n",
    "    inputs, labels = [], []\n",
    "    for _, value in tqdm(data.items()):\n",
    "        try:\n",
    "            informal_text = value['inFormalForm']\n",
    "            informal_text = text_normalization(informal_text)\n",
    "            inputs.append(informal_text)\n",
    "            labels.append(0)  # Add 0 for inFormalForm\n",
    "        except Exception as e:\n",
    "            print(f\"An error occurred: {e}\")\n",
    "\n",
    "\n",
    "        try:\n",
    "            formal_text  = value['formalForm']\n",
    "            formal_text = text_normalization(formal_text)\n",
    "            inputs.append(formal_text)\n",
    "            labels.append(1)  # Add 1 for formalForm\n",
    "        except Exception as e:\n",
    "            print(f\"An error occurred: {e}\")\n",
    "\n",
    "    return inputs, labels"
   ]
  },
  {
   "cell_type": "code",
   "execution_count": 13,
   "metadata": {},
   "outputs": [
    {
     "name": "stderr",
     "output_type": "stream",
     "text": [
      " 45%|████▌     | 15825/35009 [00:02<00:03, 6126.85it/s]"
     ]
    },
    {
     "name": "stdout",
     "output_type": "stream",
     "text": [
      "An error occurred: 'float' object has no attribute 'translate'\n"
     ]
    },
    {
     "name": "stderr",
     "output_type": "stream",
     "text": [
      "100%|██████████| 35009/35009 [00:05<00:00, 6069.42it/s]\n",
      "100%|██████████| 7502/7502 [00:01<00:00, 6054.72it/s]\n",
      "100%|██████████| 7503/7503 [00:01<00:00, 6107.75it/s]\n"
     ]
    }
   ],
   "source": [
    "train_texts, train_labels = prepare_data(train_data)\n",
    "val_texts,   val_labels   = prepare_data(val_data)\n",
    "test_texts,  test_labels  = prepare_data(test_data)"
   ]
  },
  {
   "cell_type": "code",
   "execution_count": 14,
   "metadata": {},
   "outputs": [],
   "source": [
    "# Tokenize the data\n",
    "\n",
    "def tokenize_data(texts, labels):\n",
    "    tokenized = tokenizer(\n",
    "        texts, padding=True, truncation=True, max_length=512, return_tensors=\"pt\"\n",
    "    )\n",
    "    tokenized[\"labels\"] = torch.tensor(labels)\n",
    "    return tokenized"
   ]
  },
  {
   "cell_type": "code",
   "execution_count": 15,
   "metadata": {},
   "outputs": [],
   "source": [
    "train_encodings = tokenize_data(train_texts, train_labels)\n",
    "val_encodings   = tokenize_data(val_texts, val_labels)\n",
    "test_encodings  = tokenize_data(test_texts, test_labels)"
   ]
  },
  {
   "cell_type": "code",
   "execution_count": 16,
   "metadata": {},
   "outputs": [
    {
     "data": {
      "text/plain": [
       "dict_keys(['input_ids', 'token_type_ids', 'attention_mask', 'labels'])"
      ]
     },
     "execution_count": 16,
     "metadata": {},
     "output_type": "execute_result"
    }
   ],
   "source": [
    "train_encodings.keys()"
   ]
  },
  {
   "cell_type": "markdown",
   "metadata": {},
   "source": [
    "# Prepare the Dataset"
   ]
  },
  {
   "cell_type": "code",
   "execution_count": 17,
   "metadata": {},
   "outputs": [],
   "source": [
    "class TextDataset(Dataset):\n",
    "    def __init__(self, encodings):\n",
    "        self.encodings = encodings\n",
    "\n",
    "    def __len__(self):\n",
    "        return len(self.encodings[\"input_ids\"])\n",
    "\n",
    "    def __getitem__(self, idx):\n",
    "        return {key: tensor[idx] for key, tensor in self.encodings.items()}"
   ]
  },
  {
   "cell_type": "code",
   "execution_count": 18,
   "metadata": {},
   "outputs": [],
   "source": [
    "train_dataset = TextDataset(train_encodings)\n",
    "val_dataset   = TextDataset(val_encodings)\n",
    "test_dataset  = TextDataset(test_encodings)"
   ]
  },
  {
   "cell_type": "markdown",
   "metadata": {},
   "source": [
    "# Model Evaluation"
   ]
  },
  {
   "cell_type": "code",
   "execution_count": 19,
   "metadata": {},
   "outputs": [],
   "source": [
    "val_loader  = DataLoader(val_dataset, batch_size=16)\n",
    "test_loader = DataLoader(test_dataset, batch_size=16)"
   ]
  },
  {
   "cell_type": "code",
   "execution_count": 20,
   "metadata": {},
   "outputs": [],
   "source": [
    "def evaluate_model_with_argmax_probs(model, test_loader, device=\"cpu\"):\n",
    "    \"\"\"\n",
    "    Evaluate a trained model on a test dataset and compute predictions, true labels, \n",
    "    and the probabilities of the most likely class (argmax).\n",
    "\n",
    "    Args:\n",
    "        model (torch.nn.Module): The trained model to evaluate.\n",
    "        test_loader (torch.utils.data.DataLoader): DataLoader for the test dataset.\n",
    "        device (str): The device to perform evaluation on, either \"cpu\" or \"cuda\" (default: \"cpu\").\n",
    "\n",
    "    Returns:\n",
    "        tuple: A tuple containing:\n",
    "            - true_labels (np.ndarray): Ground truth labels from the test dataset.\n",
    "            - predictions (np.ndarray): Predicted labels for the test dataset.\n",
    "            - argmax_probs (np.ndarray): Probabilities of the most likely class (argmax) for each prediction.\n",
    "\n",
    "    Example:\n",
    "        true_labels, predictions, argmax_probs = evaluate_model_with_argmax_probs(\n",
    "            model, test_loader, device=\"cuda\"\n",
    "        )\n",
    "\n",
    "    Notes:\n",
    "        - Ensure the model and test data are compatible with the evaluation setup.\n",
    "        - The function uses softmax to compute probabilities and extracts the probabilities \n",
    "          corresponding to the predicted class (argmax).\n",
    "    \"\"\"\n",
    "    model.eval()\n",
    "    predictions, true_labels, argmax_probs = [], [], []\n",
    "\n",
    "    with torch.no_grad():\n",
    "        for batch in tqdm(test_loader, desc=\"Evaluating\"):\n",
    "            # Move batch to the specified device\n",
    "            batch = {key: val.to(device) for key, val in batch.items()}\n",
    "            outputs = model(**batch)\n",
    "            logits = outputs.logits\n",
    "\n",
    "            # Compute probabilities using softmax\n",
    "            probs = softmax(logits, dim=-1)\n",
    "\n",
    "            # Collect predictions, true labels, and argmax probabilities\n",
    "            preds = torch.argmax(logits, dim=1)\n",
    "            predictions.extend(preds.cpu().numpy())\n",
    "            true_labels.extend(batch[\"labels\"].cpu().numpy())\n",
    "            argmax_probs.extend(probs.gather(1, preds.unsqueeze(1)).squeeze(1).cpu().numpy())\n",
    "\n",
    "    # Convert to NumPy arrays for analysis\n",
    "    predictions = np.array(predictions)\n",
    "    true_labels = np.array(true_labels)\n",
    "    argmax_probs = np.array(argmax_probs)\n",
    "\n",
    "    # Return results\n",
    "    return  true_labels, predictions, argmax_probs"
   ]
  },
  {
   "cell_type": "code",
   "execution_count": 21,
   "metadata": {},
   "outputs": [],
   "source": [
    "def compute_metrics(predictions, true_labels):\n",
    "    \"\"\"\n",
    "    Compute the number of equal/unequal predictions and accuracy.\n",
    "\n",
    "    Args:\n",
    "        predictions (np.ndarray): Predicted labels.\n",
    "        true_labels (np.ndarray): Ground truth labels.\n",
    "\n",
    "    Returns:\n",
    "        tuple: \n",
    "            - equal_count (int): Number of correct predictions.\n",
    "            - unequal_count (int): Number of incorrect predictions.\n",
    "            - accuracy (float): Accuracy of the predictions.\n",
    "    \"\"\"\n",
    "    equal_mask = predictions == true_labels\n",
    "    unequal_mask = predictions != true_labels\n",
    "    equal_count = np.sum(equal_mask)\n",
    "    unequal_count = np.sum(unequal_mask)\n",
    "    accuracy = equal_count / len(true_labels)\n",
    "    \n",
    "    return equal_count, unequal_count, accuracy"
   ]
  },
  {
   "cell_type": "code",
   "execution_count": 22,
   "metadata": {},
   "outputs": [],
   "source": [
    "def plot_confidence_threshold(argmax_probs, predictions, true_labels):\n",
    "    \"\"\"\n",
    "    Plot a diagram showing the effect of different probability thresholds on the accuracy of predictions.\n",
    "\n",
    "    Args:\n",
    "        argmax_probs (np.ndarray): Probabilities of the most likely class (argmax).\n",
    "        predictions (np.ndarray): Predicted labels for the test dataset.\n",
    "        true_labels (np.ndarray): Ground truth labels from the test dataset.\n",
    "    \"\"\"\n",
    "    thresholds = np.linspace(0, 1, 10000)\n",
    "    accuracies = []\n",
    "\n",
    "    for threshold in thresholds:\n",
    "        confident_preds = predictions[argmax_probs >= threshold]\n",
    "        confident_labels = true_labels[argmax_probs >= threshold]\n",
    "        correct_preds = confident_preds == confident_labels\n",
    "        accuracy = np.sum(correct_preds) / len(confident_preds) if len(confident_preds) > 0 else 0\n",
    "        accuracies.append(accuracy)\n",
    "\n",
    "    # Plotting\n",
    "    plt.plot(thresholds, accuracies, label=\"Accuracy vs Confidence Threshold\")\n",
    "    plt.xlabel(\"Confidence Threshold\")\n",
    "    plt.ylabel(\"Accuracy\")\n",
    "    plt.title(\"Thresholding Model Predictions Based on Confidence\")\n",
    "    plt.grid(True)\n",
    "    plt.show()"
   ]
  },
  {
   "cell_type": "markdown",
   "metadata": {},
   "source": [
    "# Validation Stat"
   ]
  },
  {
   "cell_type": "code",
   "execution_count": 23,
   "metadata": {},
   "outputs": [
    {
     "name": "stderr",
     "output_type": "stream",
     "text": [
      "Evaluating: 100%|██████████| 938/938 [00:27<00:00, 33.60it/s]\n"
     ]
    }
   ],
   "source": [
    "true_labels, predictions, argmax_probs = evaluate_model_with_argmax_probs(model, val_loader, device=device)"
   ]
  },
  {
   "cell_type": "code",
   "execution_count": 24,
   "metadata": {},
   "outputs": [
    {
     "name": "stdout",
     "output_type": "stream",
     "text": [
      "Number of Equal Samples: 14937\n",
      "Number of Unequal Samples: 67\n",
      "Accuracy: 0.9955\n"
     ]
    }
   ],
   "source": [
    "equal_count, unequal_count, accuracy = compute_metrics(predictions, true_labels)\n",
    "\n",
    "print(f\"Number of Equal Samples: {equal_count}\")\n",
    "print(f\"Number of Unequal Samples: {unequal_count}\")\n",
    "print(f\"Accuracy: {accuracy:.4f}\")"
   ]
  },
  {
   "cell_type": "code",
   "execution_count": 25,
   "metadata": {},
   "outputs": [
    {
     "data": {
      "image/png": "[encoded data removed]",
      "text/plain": [
       "<Figure size 640x480 with 1 Axes>"
      ]
     },
     "metadata": {},
     "output_type": "display_data"
    }
   ],
   "source": [
    "plot_confidence_threshold(argmax_probs, predictions, true_labels)"
   ]
  },
  {
   "cell_type": "markdown",
   "metadata": {},
   "source": [
    "# # Test Stat"
   ]
  },
  {
   "cell_type": "code",
   "execution_count": 26,
   "metadata": {},
   "outputs": [
    {
     "name": "stderr",
     "output_type": "stream",
     "text": [
      "Evaluating: 100%|██████████| 938/938 [00:29<00:00, 31.63it/s]\n"
     ]
    }
   ],
   "source": [
    "true_labels, predictions, argmax_probs = evaluate_model_with_argmax_probs(model, test_loader, device=device)"
   ]
  },
  {
   "cell_type": "code",
   "execution_count": 27,
   "metadata": {},
   "outputs": [
    {
     "name": "stdout",
     "output_type": "stream",
     "text": [
      "Number of Equal Samples: 14939\n",
      "Number of Unequal Samples: 67\n",
      "Accuracy: 0.9955\n"
     ]
    }
   ],
   "source": [
    "equal_count, unequal_count, accuracy = compute_metrics(predictions, true_labels)\n",
    "\n",
    "print(f\"Number of Equal Samples: {equal_count}\")\n",
    "print(f\"Number of Unequal Samples: {unequal_count}\")\n",
    "print(f\"Accuracy: {accuracy:.4f}\")"
   ]
  },
  {
   "cell_type": "code",
   "execution_count": 28,
   "metadata": {},
   "outputs": [
    {
     "data": {
      "image/png": "[encoded data removed]",
      "text/plain": [
       "<Figure size 640x480 with 1 Axes>"
      ]
     },
     "metadata": {},
     "output_type": "display_data"
    }
   ],
   "source": [
    "plot_confidence_threshold(argmax_probs, predictions, true_labels)"
   ]
  },
  {
   "cell_type": "code",
   "execution_count": null,
   "metadata": {},
   "outputs": [],
   "source": []
  },
  {
   "cell_type": "code",
   "execution_count": null,
   "metadata": {},
   "outputs": [],
   "source": []
  }
 ],
 "metadata": {
  "kernelspec": {
   "display_name": "torch",
   "language": "python",
   "name": "python3"
  },
  "language_info": {
   "codemirror_mode": {
    "name": "ipython",
    "version": 3
   },
   "file_extension": ".py",
   "mimetype": "text/x-python",
   "name": "python",
   "nbconvert_exporter": "python",
   "pygments_lexer": "ipython3",
   "version": "3.10.14"
  }
 },
 "nbformat": 4,
 "nbformat_minor": 2
}
